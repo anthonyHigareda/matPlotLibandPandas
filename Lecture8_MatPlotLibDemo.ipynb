{
 "cells": [
  {
   "cell_type": "markdown",
   "metadata": {},
   "source": [
    "# Matplotlib"
   ]
  },
  {
   "cell_type": "code",
   "execution_count": null,
   "metadata": {},
   "outputs": [],
   "source": [
    "import matplotlib.pyplot as plt"
   ]
  },
  {
   "cell_type": "code",
   "execution_count": null,
   "metadata": {},
   "outputs": [],
   "source": [
    "# a very simple plot\n",
    "\n",
    "xAxis = [1,2,3,4]\n",
    "yAxis = [4,3,1,5]\n",
    "plt.plot(xAxis,yAxis) #creates a line plot. x-axis data always comes first\n",
    "plt.show() #note, plt.show() is likely unnecessary, depending on the environment you are running the script in"
   ]
  },
  {
   "cell_type": "code",
   "execution_count": null,
   "metadata": {},
   "outputs": [],
   "source": [
    "# That plot isn't that informative... lets add some labels\n",
    "plt.plot(xAxis,yAxis)\n",
    "plt.xlabel(\"x-axis label\")\n",
    "plt.ylabel(\"y-axis label\")\n",
    "plt.title(\"This is the title\")\n",
    "plt.show()"
   ]
  },
  {
   "cell_type": "code",
   "execution_count": null,
   "metadata": {},
   "outputs": [],
   "source": [
    "# Let's make the labels more readable and make the ticks\n",
    "# look a little better as well\n",
    "\n",
    "plt.plot(xAxis,yAxis)\n",
    "plt.xlabel(\"x-axis label\", size = 15)\n",
    "plt.ylabel(\"y-axis label\", size = 15)\n",
    "plt.title(\"This is the title\", size = 18)\n",
    "plt.xticks([1,2,3,4,5])\n",
    "plt.yticks([1,2,3,4,5])\n",
    "plt.show()"
   ]
  },
  {
   "cell_type": "code",
   "execution_count": null,
   "metadata": {},
   "outputs": [],
   "source": [
    "# what if we want to change the color of the line?\n",
    "plt.plot(xAxis,yAxis, c = \"r\") #multple ways to do this, https://matplotlib.org/stable/gallery/color/named_colors.html\n",
    "plt.xlabel(\"x-axis label\", size = 15)\n",
    "plt.ylabel(\"y-axis label\", size = 15)\n",
    "plt.title(\"This is the title\", size = 18)\n",
    "plt.xticks([1,2,3,4,5])\n",
    "plt.yticks([1,2,3,4,5])\n",
    "plt.show()"
   ]
  },
  {
   "cell_type": "code",
   "execution_count": null,
   "metadata": {},
   "outputs": [],
   "source": [
    "#add a second line?\n",
    "xAxis2 = [1,2,3,4,5]\n",
    "yAxis2 = [1,2,3,4,5]\n",
    "plt.plot(xAxis2,yAxis2, c = \"g\") #you can stack lines on each other\n",
    "plt.plot(xAxis,yAxis, c = \"r\") \n",
    "plt.xlabel(\"x-axis label\", size = 15)\n",
    "plt.ylabel(\"y-axis label\", size = 15)\n",
    "plt.title(\"This is the title\", size = 18)\n",
    "plt.xticks([1,2,3,4,5])\n",
    "plt.yticks([1,2,3,4,5])\n",
    "\n",
    "plt.show()"
   ]
  },
  {
   "cell_type": "code",
   "execution_count": null,
   "metadata": {},
   "outputs": [],
   "source": [
    "# add a legend?\n",
    "\n",
    "xAxis2 = [1,2,3,4,5]\n",
    "yAxis2 = [1,2,3,4,5]\n",
    "plt.plot(xAxis2,yAxis2, c = \"g\", label = \"Line 2\") #legends will display the \"label\" for each line\n",
    "plt.plot(xAxis,yAxis, c = \"r\", label = \"Line 1\") \n",
    "plt.xlabel(\"x-axis label\", size = 15)\n",
    "plt.ylabel(\"y-axis label\", size = 15)\n",
    "plt.title(\"This is the title\", size = 18)\n",
    "plt.xticks([1,2,3,4,5])\n",
    "plt.yticks([1,2,3,4,5])\n",
    "plt.legend(fontsize = 20, loc = 8) # draw the legend, locations https://matplotlib.org/stable/api/_as_gen/matplotlib.pyplot.legend.html\n",
    "plt.show()"
   ]
  },
  {
   "cell_type": "code",
   "execution_count": null,
   "metadata": {},
   "outputs": [],
   "source": [
    "# do the same plot, but as a scatter plot?\n",
    "\n",
    "xAxis2 = [1,2,3,4,5]\n",
    "yAxis2 = [1,2,3,4,5]\n",
    "plt.scatter(xAxis2,yAxis2, c = \"g\", label = \"Line 2\") \n",
    "plt.scatter(xAxis,yAxis, c = \"r\", label = \"Line 1\") \n",
    "plt.xlabel(\"x-axis label\", size = 15)\n",
    "plt.ylabel(\"y-axis label\", size = 15)\n",
    "plt.title(\"This is the title\", size = 18)\n",
    "plt.xticks([1,2,3,4,5])\n",
    "plt.yticks([1,2,3,4,5])\n",
    "plt.legend(fontsize = 10) \n",
    "plt.show()"
   ]
  },
  {
   "cell_type": "markdown",
   "metadata": {},
   "source": [
    "# Example 1\n",
    "Write a program that allows a user to input a number, then generates that many pairs of dice rolls. Plot a histogram of the sum of each roll. Then write a program that does the same thing, but also generates a random number between 2 and 12 and compares the two distributions."
   ]
  },
  {
   "cell_type": "code",
   "execution_count": null,
   "metadata": {},
   "outputs": [],
   "source": [
    "import random\n",
    "numRolls = int(input(\"How many dice rolls should be simulated? \"))\n",
    "rollSums = []\n",
    "for i in range(numRolls):\n",
    "    d1 = random.randint(1,6)\n",
    "    d2 = random.randint(1,6)\n",
    "    \n",
    "    rollSums.append(d1 + d2)\n",
    "    \n",
    "plt.hist(rollSums, bins = 11) #bins defaults to 10\n",
    "plt.xlim(1,13)\n",
    "plt.xlabel('Sum of dice roll')\n",
    "plt.ylabel(\"Num. of occurrences\")\n",
    "plt.show()"
   ]
  },
  {
   "cell_type": "code",
   "execution_count": null,
   "metadata": {},
   "outputs": [],
   "source": [
    "# What about comparing distributions?\n",
    "\n",
    "#compare distributions of dice rolls vs randomly generating a number between 2 and 12\n",
    "\n",
    "numRolls = 10000\n",
    "\n",
    "rollSums = []\n",
    "singleRoll = []\n",
    "for i in range(numRolls):\n",
    "    d1 = random.randint(1,6)\n",
    "    d2 = random.randint(1,6)\n",
    "    \n",
    "    rollSums.append(d1 + d2)\n",
    "    \n",
    "    d3 = random.randint(2,12)\n",
    "    singleRoll.append(d3)\n",
    "plt.hist(rollSums, bins = 11, alpha = .3) #alpha adds transparency to plotted data\n",
    "plt.hist(singleRoll, bins = 11, color= \"g\", alpha = .3)\n",
    "plt.xlim(1,13)\n",
    "plt.show()"
   ]
  },
  {
   "cell_type": "markdown",
   "metadata": {},
   "source": [
    "# Example 2 - working with categorical data"
   ]
  },
  {
   "cell_type": "markdown",
   "metadata": {},
   "source": [
    "Download the Game_of_Thrones_Script.csv from Canvas. Create a bar chart showing the number of lines spoken for the 10 characters with the most speaking lines througout the show. Also create a bar chart plotting the number of words spoken (for the 10 characters with the most words spoken) througout the show.\n",
    "\n",
    "CSV stands for comma separated values - we will talk more about working with these files when we talk about pandas next week"
   ]
  },
  {
   "cell_type": "code",
   "execution_count": null,
   "metadata": {},
   "outputs": [],
   "source": [
    "# Read in the data using csv, look at the first few lines of the data\n",
    "import csv\n",
    "\n",
    "got = open(\"Files/Game_of_Thrones_Script.csv\")\n",
    "scriptReader = csv.reader(got)\n",
    "\n",
    "# lets look at how this file opens\n",
    "counter = 0\n",
    "for line in scriptReader:\n",
    "    if counter < 10: \n",
    "        print(line)\n",
    "    counter += 1\n",
    "    print()\n",
    "got.close()"
   ]
  },
  {
   "cell_type": "code",
   "execution_count": null,
   "metadata": {},
   "outputs": [],
   "source": [
    "# now lets actually count the lines\n",
    "\n",
    "got = open(\"Files/Game_of_Thrones_Script.csv\")\n",
    "scriptReader = csv.reader(got)\n",
    "\n",
    "charLineCounts = dict() #keys are character names, values are how many lines they have\n",
    "\n",
    "#get line counts for each character\n",
    "counter = 0\n",
    "for line in scriptReader:\n",
    "    if counter != 0: #we want to skip the header line\n",
    "        character = line[4]\n",
    "        if character not in charLineCounts:\n",
    "            charLineCounts[character] = 1\n",
    "        else: \n",
    "            charLineCounts[character] += 1  \n",
    "    counter += 1\n",
    "got.close() \n",
    "\n",
    "    \n",
    "#determine cutoff for top 10 character words spoken\n",
    "lineCounts = list(charLineCounts.values())\n",
    "lineCounts = sorted(lineCounts, reverse = True) #sort in descending order\n",
    "cutoff = lineCounts[9] #10th most spoken lines\n",
    "\n",
    "characterList = [] #list of character names for plotting\n",
    "linesList = [] # list of character spoken lines for plotting\n",
    "for character in charLineCounts:\n",
    "    if charLineCounts[character] >= cutoff: #then they are in the top 10 most spoken characters\n",
    "        characterList.append(character)\n",
    "        linesList.append(charLineCounts[character])\n",
    "\n",
    "#make plot\n",
    "plt.bar(characterList,linesList)\n",
    "plt.xlabel(\"Character\")\n",
    "plt.ylabel(\"Number of lines\")\n",
    "plt.show()\n",
    "\n",
    "\n",
    "\n",
    "\n"
   ]
  },
  {
   "cell_type": "code",
   "execution_count": null,
   "metadata": {},
   "outputs": [],
   "source": [
    "#The above plot's x axis tick labels aren't readable... lets fix that\n",
    "\n",
    "\n",
    "plt.bar(characterList,linesList)\n",
    "plt.xlabel(\"Character\")\n",
    "plt.ylabel(\"Number of lines\")\n",
    "plt.xticks(rotation = 90)\n",
    "plt.show()"
   ]
  },
  {
   "cell_type": "code",
   "execution_count": null,
   "metadata": {},
   "outputs": [],
   "source": [
    "# What about counting total words? - Take a minute and think how we would do that\n",
    "\n",
    "# if we want to count total words\n",
    "\n",
    "got = open(\"Files/Game_of_Thrones_Script.csv\")\n",
    "scriptReader = csv.reader(got)\n",
    "\n",
    "charWordCounts = dict()\n",
    "\n",
    "#get word counts for each character\n",
    "counter = 0\n",
    "for line in scriptReader:\n",
    "    if counter != 0: #we want to skip the header line\n",
    "        character = line[4]\n",
    "        words = line[5].split()\n",
    "        if character not in charWordCounts:\n",
    "            charWordCounts[character] = len(words)\n",
    "        else: \n",
    "            charWordCounts[character] += len(words)  \n",
    "    counter += 1\n",
    "got.close()   \n",
    "    \n",
    "#determine cutoff for top 10 character words spoken\n",
    "wordCounts = list(charWordCounts.values())\n",
    "wordCounts = sorted(wordCounts, reverse = True) #sort in descending order\n",
    "cutoff = wordCounts[9] #10th most spoken words\n",
    "\n",
    "characterList = [] #list of character names for plotting\n",
    "wordsList = [] # list of character spoken words for plotting\n",
    "for character in charWordCounts:\n",
    "    if charWordCounts[character] >= cutoff: #then they are in the top 10 most spoken characters\n",
    "        characterList.append(character)\n",
    "        wordsList.append(charWordCounts[character])\n",
    "\n",
    "#make plot\n",
    "plt.bar(characterList,wordsList)\n",
    "plt.xlabel(\"Character\")\n",
    "plt.ylabel(\"Number of words spoken\")\n",
    "plt.xticks(rotation = 90)\n",
    "plt.show()\n",
    "\n",
    "\n",
    "\n",
    "\n",
    "\n"
   ]
  },
  {
   "cell_type": "code",
   "execution_count": null,
   "metadata": {},
   "outputs": [],
   "source": [
    "#as a pie chart\n",
    "\n",
    "#make plot\n",
    "plt.figure(figsize = (10,5), dpi = 200)\n",
    "plt.pie(wordsList, autopct='%1.1f%%')#autopct adds percent to the plot\n",
    "plt.legend(characterList, loc = 5) #loc = 5 puts the legend on the right\n",
    "plt.axis(\"equal\") #makes sure plot is drawn as a circle\n",
    "plt.show()\n",
    "\n",
    "\n"
   ]
  },
  {
   "cell_type": "markdown",
   "metadata": {},
   "source": [
    "# Example 3\n",
    "Download apple.txt and gamestop.txt from Canvas\n",
    "\n",
    "First create 4 total lists: gamestopDate, appleDate, gamestopPrice, applePrice\n",
    "\n",
    "Use these lists to plot the share price of the 2 companies for the last year, apple in red and gamestop in black. Add a legend, x- and y-axis labels, and a title"
   ]
  },
  {
   "cell_type": "code",
   "execution_count": null,
   "metadata": {},
   "outputs": [],
   "source": [
    "appleData = list(open('Files/apple.txt'))\n",
    "gamestopData = list(open('Files/gamestop.txt'))\n",
    "\n",
    "\n",
    "gamestopDate = []\n",
    "gamestopPrice = []\n",
    "appleDate = []\n",
    "applePrice = []\n",
    "\n",
    "\n",
    "# split the data into the x and y axis\n",
    "for line in gamestopData:\n",
    "    line = line.split()\n",
    "    gamestopDate.append(int(line[0]))\n",
    "    gamestopPrice.append(float(line[1]))\n",
    "    \n",
    "for line in appleData:\n",
    "    line = line.split()\n",
    "    appleDate.append(int(line[0]))\n",
    "    applePrice.append(float(line[1]))\n",
    "    \n",
    "    \n",
    "plt.plot(appleDate,applePrice, c = \"r\", label = \"Apple\")\n",
    "plt.plot(gamestopDate,gamestopPrice,c = 'k', label = \"Gamestop\")\n",
    "plt.legend()\n",
    "plt.xlabel(\"Closing day since April 11, 2020\")\n",
    "plt.ylabel(\"Closing price\")\n",
    "\n",
    "plt.show()\n",
    "\n"
   ]
  },
  {
   "cell_type": "markdown",
   "metadata": {},
   "source": [
    "# Change size/resolution/save the plot to your computer"
   ]
  },
  {
   "cell_type": "code",
   "execution_count": null,
   "metadata": {},
   "outputs": [],
   "source": [
    "#what if you want to change the size of the plot?\n",
    "plt.figure(figsize=[10,10], dpi= 300) #set width and height in inches, dpi is resolution\n",
    "plt.plot(appleDate,applePrice, c = \"r\", label = \"Apple\")\n",
    "plt.plot(gamestopDate,gamestopPrice,c = 'k', label = \"Gamestop\")\n",
    "plt.legend()\n",
    "plt.xlabel(\"Closing day since April 11, 2020\")\n",
    "plt.ylabel(\"Closing price\")\n",
    "\n",
    "plt.savefig(\"MyFig\") #must be before plt.show(), plt.show() clears the figure\n",
    "plt.show()\n",
    "\n"
   ]
  },
  {
   "cell_type": "code",
   "execution_count": null,
   "metadata": {},
   "outputs": [],
   "source": [
    "\n"
   ]
  }
 ],
 "metadata": {
  "kernelspec": {
   "display_name": "Python 3 (ipykernel)",
   "language": "python",
   "name": "python3"
  },
  "language_info": {
   "codemirror_mode": {
    "name": "ipython",
    "version": 3
   },
   "file_extension": ".py",
   "mimetype": "text/x-python",
   "name": "python",
   "nbconvert_exporter": "python",
   "pygments_lexer": "ipython3",
   "version": "3.9.17"
  }
 },
 "nbformat": 4,
 "nbformat_minor": 2
}
